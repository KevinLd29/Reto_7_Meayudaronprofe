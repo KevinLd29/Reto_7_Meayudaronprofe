{
 "cells": [
  {
   "cell_type": "code",
   "execution_count": null,
   "metadata": {},
   "outputs": [],
   "source": [
    "for i in range(1, 101):\n",
    "    print(f\"{i} - {i**2}\")\n"
   ]
  },
  {
   "cell_type": "code",
   "execution_count": null,
   "metadata": {},
   "outputs": [],
   "source": [
    "print(\"Impares:\")\n",
    "for i in range(1, 1000, 2):\n",
    "    print(i)\n",
    "\n",
    "print(\"\\nPares:\")\n",
    "for i in range(2, 1001, 2):\n",
    "    print(i)\n"
   ]
  },
  {
   "cell_type": "code",
   "execution_count": null,
   "metadata": {},
   "outputs": [],
   "source": [
    "n = int(input(\"Ingrese un número natural n ≥ 2: \"))\n",
    "for i in range(n, 1, -2):\n",
    "    if i % 2 == 0:\n",
    "        print(i)\n"
   ]
  },
  {
   "cell_type": "code",
   "execution_count": null,
   "metadata": {},
   "outputs": [],
   "source": [
    "poblacion_A = 25e6\n",
    "poblacion_B = 18.9e6\n",
    "año = 2022\n",
    "\n",
    "while poblacion_B <= poblacion_A:\n",
    "    poblacion_A += poblacion_A * 0.02\n",
    "    poblacion_B += poblacion_B * 0.03\n",
    "    año += 1\n",
    "\n",
    "print(f\"La población de B superará a la de A en el año {año}\")\n"
   ]
  },
  {
   "cell_type": "code",
   "execution_count": null,
   "metadata": {},
   "outputs": [],
   "source": [
    "def factorial(n):\n",
    "    if n == 0:\n",
    "        return 1\n",
    "    else:\n",
    "        return n * factorial(n-1)\n",
    "\n",
    "n = int(input(\"Ingrese un número natural: \"))\n",
    "print(f\"El factorial de {n} es: {factorial(n)}\")\n"
   ]
  },
  {
   "cell_type": "code",
   "execution_count": null,
   "metadata": {},
   "outputs": [],
   "source": [
    "import random\n",
    "\n",
    "numero = random.randint(1, 100)\n",
    "intentos = 0\n",
    "print(\"Adivina el número entre 1 y 100\")\n",
    "\n",
    "while True:\n",
    "    intentos += 1\n",
    "    guess = int(input(\"Tu suposición: \"))\n",
    "    if guess < numero:\n",
    "        print(\"El número es mayor.\")\n",
    "    elif guess > numero:\n",
    "        print(\"El número es menor.\")\n",
    "    else:\n",
    "        print(f\"¡Correcto! Lo lograste en {intentos} intentos.\")\n",
    "        break\n"
   ]
  },
  {
   "cell_type": "code",
   "execution_count": null,
   "metadata": {},
   "outputs": [],
   "source": [
    "n = int(input(\"Ingrese un número entre 2 y 50: \"))\n",
    "\n",
    "print(f\"Divisores de {n}:\")\n",
    "for i in range(1, n + 1):\n",
    "    if n % i == 0:\n",
    "        print(i)\n"
   ]
  },
  {
   "cell_type": "code",
   "execution_count": null,
   "metadata": {},
   "outputs": [],
   "source": [
    "def es_primo(num):\n",
    "    if num < 2:\n",
    "        return False\n",
    "    for i in range(2, int(num**0.5) + 1):\n",
    "        if num % i == 0:\n",
    "            return False\n",
    "    return True\n",
    "\n",
    "print(\"Números primos del 1 al 100:\")\n",
    "for i in range(1, 101):\n",
    "    if es_primo(i):\n",
    "        print(i)\n"
   ]
  }
 ],
 "metadata": {
  "language_info": {
   "name": "python"
  }
 },
 "nbformat": 4,
 "nbformat_minor": 2
}
